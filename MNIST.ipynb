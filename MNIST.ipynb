{
  "nbformat": 4,
  "nbformat_minor": 0,
  "metadata": {
    "colab": {
      "name": "mnist.ipynb",
      "provenance": [],
      "collapsed_sections": [],
      "mount_file_id": "1CITFcIXKQX3LwajyEA5yDzMlVeRheRyJ",
      "authorship_tag": "ABX9TyNTnmVKO3cRPRcVl7OfS0dD",
      "include_colab_link": true
    },
    "kernelspec": {
      "name": "python3",
      "display_name": "Python 3"
    },
    "widgets": {
      "application/vnd.jupyter.widget-state+json": {
        "8529c0fd4a904bf18dd5e4341a3c8894": {
          "model_module": "@jupyter-widgets/controls",
          "model_name": "HBoxModel",
          "state": {
            "_view_name": "HBoxView",
            "_dom_classes": [],
            "_model_name": "HBoxModel",
            "_view_module": "@jupyter-widgets/controls",
            "_model_module_version": "1.5.0",
            "_view_count": null,
            "_view_module_version": "1.5.0",
            "box_style": "",
            "layout": "IPY_MODEL_759d4aa7507b4000b3afc97ca548c9da",
            "_model_module": "@jupyter-widgets/controls",
            "children": [
              "IPY_MODEL_011fcc0268474a3984a8442e9ea57698",
              "IPY_MODEL_8e5eac10872e4f00b081e31858441ab1"
            ]
          }
        },
        "759d4aa7507b4000b3afc97ca548c9da": {
          "model_module": "@jupyter-widgets/base",
          "model_name": "LayoutModel",
          "state": {
            "_view_name": "LayoutView",
            "grid_template_rows": null,
            "right": null,
            "justify_content": null,
            "_view_module": "@jupyter-widgets/base",
            "overflow": null,
            "_model_module_version": "1.2.0",
            "_view_count": null,
            "flex_flow": null,
            "width": null,
            "min_width": null,
            "border": null,
            "align_items": null,
            "bottom": null,
            "_model_module": "@jupyter-widgets/base",
            "top": null,
            "grid_column": null,
            "overflow_y": null,
            "overflow_x": null,
            "grid_auto_flow": null,
            "grid_area": null,
            "grid_template_columns": null,
            "flex": null,
            "_model_name": "LayoutModel",
            "justify_items": null,
            "grid_row": null,
            "max_height": null,
            "align_content": null,
            "visibility": null,
            "align_self": null,
            "height": null,
            "min_height": null,
            "padding": null,
            "grid_auto_rows": null,
            "grid_gap": null,
            "max_width": null,
            "order": null,
            "_view_module_version": "1.2.0",
            "grid_template_areas": null,
            "object_position": null,
            "object_fit": null,
            "grid_auto_columns": null,
            "margin": null,
            "display": null,
            "left": null
          }
        },
        "011fcc0268474a3984a8442e9ea57698": {
          "model_module": "@jupyter-widgets/controls",
          "model_name": "FloatProgressModel",
          "state": {
            "_view_name": "ProgressView",
            "style": "IPY_MODEL_b2503429651d4e17a1fdc069737b0eaf",
            "_dom_classes": [],
            "description": "Dl Completed...: 100%",
            "_model_name": "FloatProgressModel",
            "bar_style": "success",
            "max": 4,
            "_view_module": "@jupyter-widgets/controls",
            "_model_module_version": "1.5.0",
            "value": 4,
            "_view_count": null,
            "_view_module_version": "1.5.0",
            "orientation": "horizontal",
            "min": 0,
            "description_tooltip": null,
            "_model_module": "@jupyter-widgets/controls",
            "layout": "IPY_MODEL_cb26ca54fa66457cbe13be8c629b8c08"
          }
        },
        "8e5eac10872e4f00b081e31858441ab1": {
          "model_module": "@jupyter-widgets/controls",
          "model_name": "HTMLModel",
          "state": {
            "_view_name": "HTMLView",
            "style": "IPY_MODEL_c844f6b8dca24a8cb325970a25e8bf8a",
            "_dom_classes": [],
            "description": "",
            "_model_name": "HTMLModel",
            "placeholder": "​",
            "_view_module": "@jupyter-widgets/controls",
            "_model_module_version": "1.5.0",
            "value": " 4/4 [00:00&lt;00:00,  5.55 file/s]",
            "_view_count": null,
            "_view_module_version": "1.5.0",
            "description_tooltip": null,
            "_model_module": "@jupyter-widgets/controls",
            "layout": "IPY_MODEL_eec24929c5934053a553d331ba947f4c"
          }
        },
        "b2503429651d4e17a1fdc069737b0eaf": {
          "model_module": "@jupyter-widgets/controls",
          "model_name": "ProgressStyleModel",
          "state": {
            "_view_name": "StyleView",
            "_model_name": "ProgressStyleModel",
            "description_width": "initial",
            "_view_module": "@jupyter-widgets/base",
            "_model_module_version": "1.5.0",
            "_view_count": null,
            "_view_module_version": "1.2.0",
            "bar_color": null,
            "_model_module": "@jupyter-widgets/controls"
          }
        },
        "cb26ca54fa66457cbe13be8c629b8c08": {
          "model_module": "@jupyter-widgets/base",
          "model_name": "LayoutModel",
          "state": {
            "_view_name": "LayoutView",
            "grid_template_rows": null,
            "right": null,
            "justify_content": null,
            "_view_module": "@jupyter-widgets/base",
            "overflow": null,
            "_model_module_version": "1.2.0",
            "_view_count": null,
            "flex_flow": null,
            "width": null,
            "min_width": null,
            "border": null,
            "align_items": null,
            "bottom": null,
            "_model_module": "@jupyter-widgets/base",
            "top": null,
            "grid_column": null,
            "overflow_y": null,
            "overflow_x": null,
            "grid_auto_flow": null,
            "grid_area": null,
            "grid_template_columns": null,
            "flex": null,
            "_model_name": "LayoutModel",
            "justify_items": null,
            "grid_row": null,
            "max_height": null,
            "align_content": null,
            "visibility": null,
            "align_self": null,
            "height": null,
            "min_height": null,
            "padding": null,
            "grid_auto_rows": null,
            "grid_gap": null,
            "max_width": null,
            "order": null,
            "_view_module_version": "1.2.0",
            "grid_template_areas": null,
            "object_position": null,
            "object_fit": null,
            "grid_auto_columns": null,
            "margin": null,
            "display": null,
            "left": null
          }
        },
        "c844f6b8dca24a8cb325970a25e8bf8a": {
          "model_module": "@jupyter-widgets/controls",
          "model_name": "DescriptionStyleModel",
          "state": {
            "_view_name": "StyleView",
            "_model_name": "DescriptionStyleModel",
            "description_width": "",
            "_view_module": "@jupyter-widgets/base",
            "_model_module_version": "1.5.0",
            "_view_count": null,
            "_view_module_version": "1.2.0",
            "_model_module": "@jupyter-widgets/controls"
          }
        },
        "eec24929c5934053a553d331ba947f4c": {
          "model_module": "@jupyter-widgets/base",
          "model_name": "LayoutModel",
          "state": {
            "_view_name": "LayoutView",
            "grid_template_rows": null,
            "right": null,
            "justify_content": null,
            "_view_module": "@jupyter-widgets/base",
            "overflow": null,
            "_model_module_version": "1.2.0",
            "_view_count": null,
            "flex_flow": null,
            "width": null,
            "min_width": null,
            "border": null,
            "align_items": null,
            "bottom": null,
            "_model_module": "@jupyter-widgets/base",
            "top": null,
            "grid_column": null,
            "overflow_y": null,
            "overflow_x": null,
            "grid_auto_flow": null,
            "grid_area": null,
            "grid_template_columns": null,
            "flex": null,
            "_model_name": "LayoutModel",
            "justify_items": null,
            "grid_row": null,
            "max_height": null,
            "align_content": null,
            "visibility": null,
            "align_self": null,
            "height": null,
            "min_height": null,
            "padding": null,
            "grid_auto_rows": null,
            "grid_gap": null,
            "max_width": null,
            "order": null,
            "_view_module_version": "1.2.0",
            "grid_template_areas": null,
            "object_position": null,
            "object_fit": null,
            "grid_auto_columns": null,
            "margin": null,
            "display": null,
            "left": null
          }
        }
      }
    }
  },
  "cells": [
    {
      "cell_type": "markdown",
      "metadata": {
        "id": "view-in-github",
        "colab_type": "text"
      },
      "source": [
        "<a href=\"https://colab.research.google.com/github/Cossak/MNIST-Digit-Classifier-Web-App/blob/main/mnist.ipynb\" target=\"_parent\"><img src=\"https://colab.research.google.com/assets/colab-badge.svg\" alt=\"Open In Colab\"/></a>"
      ]
    },
    {
      "cell_type": "markdown",
      "metadata": {
        "id": "mfhc2witE47w"
      },
      "source": [
        "# MNIST Digit-Classifier"
      ]
    },
    {
      "cell_type": "code",
      "metadata": {
        "id": "sp73LG5N9_np"
      },
      "source": [
        "!pip install streamlit"
      ],
      "execution_count": null,
      "outputs": []
    },
    {
      "cell_type": "code",
      "metadata": {
        "id": "jmmd9ISEDvFy"
      },
      "source": [
        "import numpy as np\r\n",
        "import matplotlib.pyplot as plt\r\n",
        "import seaborn as sns\r\n",
        "import tensorflow as tf\r\n",
        "from tensorflow import keras\r\n",
        "import tensorflow_datasets as tfds\r\n",
        "\r\n",
        "sns.set()\r\n",
        "np.random.seed(7)\r\n",
        "tf.random.set_seed(7)"
      ],
      "execution_count": 2,
      "outputs": []
    },
    {
      "cell_type": "code",
      "metadata": {
        "colab": {
          "base_uri": "https://localhost:8080/",
          "height": 321,
          "referenced_widgets": [
            "8529c0fd4a904bf18dd5e4341a3c8894",
            "759d4aa7507b4000b3afc97ca548c9da",
            "011fcc0268474a3984a8442e9ea57698",
            "8e5eac10872e4f00b081e31858441ab1",
            "b2503429651d4e17a1fdc069737b0eaf",
            "cb26ca54fa66457cbe13be8c629b8c08",
            "c844f6b8dca24a8cb325970a25e8bf8a",
            "eec24929c5934053a553d331ba947f4c"
          ]
        },
        "id": "GQPZst3zEYkb",
        "outputId": "a50b5f27-43ab-43eb-b4bb-baf6d7b3580d"
      },
      "source": [
        "mnist, mnist_info = tfds.load('mnist', batch_size=64, with_info=True, as_supervised=True)\r\n",
        "mnist_train = mnist['train'].prefetch(1)\r\n",
        "mnist_test = mnist['test'].prefetch(1)"
      ],
      "execution_count": 3,
      "outputs": [
        {
          "output_type": "stream",
          "text": [
            "2021-02-28 05:58:40.202 INFO    absl: Load pre-computed DatasetInfo (eg: splits, num examples,...) from GCS: mnist/3.0.1\n",
            "2021-02-28 05:58:40.397 INFO    absl: Load dataset info from /tmp/tmpz0gpvkk7tfds\n",
            "2021-02-28 05:58:40.403 INFO    absl: Field info.citation from disk and from code do not match. Keeping the one from code.\n",
            "2021-02-28 05:58:40.406 INFO    absl: Generating dataset mnist (/root/tensorflow_datasets/mnist/3.0.1)\n"
          ],
          "name": "stderr"
        },
        {
          "output_type": "stream",
          "text": [
            "\u001b[1mDownloading and preparing dataset mnist/3.0.1 (download: 11.06 MiB, generated: 21.00 MiB, total: 32.06 MiB) to /root/tensorflow_datasets/mnist/3.0.1...\u001b[0m\n"
          ],
          "name": "stdout"
        },
        {
          "output_type": "stream",
          "text": [
            "2021-02-28 05:58:40.643 WARNING absl: Dataset mnist is hosted on GCS. It will automatically be downloaded to your\n",
            "local data directory. If you'd instead prefer to read directly from our public\n",
            "GCS bucket (recommended if you're running on GCP), you can instead pass\n",
            "`try_gcs=True` to `tfds.load` or set `data_dir=gs://tfds-data/datasets`.\n",
            "\n"
          ],
          "name": "stderr"
        },
        {
          "output_type": "display_data",
          "data": {
            "application/vnd.jupyter.widget-view+json": {
              "model_id": "8529c0fd4a904bf18dd5e4341a3c8894",
              "version_minor": 0,
              "version_major": 2
            },
            "text/plain": [
              "HBox(children=(FloatProgress(value=0.0, description='Dl Completed...', max=4.0, style=ProgressStyle(descriptio…"
            ]
          },
          "metadata": {
            "tags": []
          }
        },
        {
          "output_type": "stream",
          "text": [
            "2021-02-28 05:58:41.221 INFO    absl: Load dataset info from /root/tensorflow_datasets/mnist/3.0.1.incompleteCYVI8M\n",
            "2021-02-28 05:58:41.226 INFO    absl: Field info.citation from disk and from code do not match. Keeping the one from code.\n",
            "2021-02-28 05:58:41.229 INFO    absl: Constructing tf.data.Dataset for split None, from /root/tensorflow_datasets/mnist/3.0.1\n"
          ],
          "name": "stderr"
        },
        {
          "output_type": "stream",
          "text": [
            "\n",
            "\n",
            "\u001b[1mDataset mnist downloaded and prepared to /root/tensorflow_datasets/mnist/3.0.1. Subsequent calls will reuse this data.\u001b[0m\n"
          ],
          "name": "stdout"
        }
      ]
    },
    {
      "cell_type": "code",
      "metadata": {
        "colab": {
          "base_uri": "https://localhost:8080/"
        },
        "id": "eEiZ2U5b_RYU",
        "outputId": "34de0364-cbf9-4f74-f223-3b6990a47da0"
      },
      "source": [
        "mnist_info"
      ],
      "execution_count": 4,
      "outputs": [
        {
          "output_type": "execute_result",
          "data": {
            "text/plain": [
              "tfds.core.DatasetInfo(\n",
              "    name='mnist',\n",
              "    version=3.0.1,\n",
              "    description='The MNIST database of handwritten digits.',\n",
              "    homepage='http://yann.lecun.com/exdb/mnist/',\n",
              "    features=FeaturesDict({\n",
              "        'image': Image(shape=(28, 28, 1), dtype=tf.uint8),\n",
              "        'label': ClassLabel(shape=(), dtype=tf.int64, num_classes=10),\n",
              "    }),\n",
              "    total_num_examples=70000,\n",
              "    splits={\n",
              "        'test': 10000,\n",
              "        'train': 60000,\n",
              "    },\n",
              "    supervised_keys=('image', 'label'),\n",
              "    citation=\"\"\"@article{lecun2010mnist,\n",
              "      title={MNIST handwritten digit database},\n",
              "      author={LeCun, Yann and Cortes, Corinna and Burges, CJ},\n",
              "      journal={ATT Labs [Online]. Available: http://yann.lecun.com/exdb/mnist},\n",
              "      volume={2},\n",
              "      year={2010}\n",
              "    }\"\"\",\n",
              "    redistribution_info=,\n",
              ")"
            ]
          },
          "metadata": {
            "tags": []
          },
          "execution_count": 4
        }
      ]
    },
    {
      "cell_type": "code",
      "metadata": {
        "colab": {
          "base_uri": "https://localhost:8080/"
        },
        "id": "4Qtvoh1MTE19",
        "outputId": "9d68e9b3-c798-462a-9038-71dbda6ba60b"
      },
      "source": [
        "for item in mnist_train.take(1):\r\n",
        "    print(item[0].shape)\r\n",
        "    print(item[1].numpy())"
      ],
      "execution_count": 5,
      "outputs": [
        {
          "output_type": "stream",
          "text": [
            "(64, 28, 28, 1)\n",
            "[4 1 0 7 8 1 2 7 1 6 6 4 7 7 3 3 7 9 9 1 0 6 6 9 9 4 8 9 4 7 3 3 0 9 4 9 0\n",
            " 6 8 4 7 2 6 0 3 1 1 7 2 4 4 6 5 1 9 3 2 4 3 4 4 7 5 8]\n"
          ],
          "name": "stdout"
        }
      ]
    },
    {
      "cell_type": "code",
      "metadata": {
        "colab": {
          "base_uri": "https://localhost:8080/",
          "height": 127
        },
        "id": "hPMqTuyAHg54",
        "outputId": "38506847-842b-4c4b-8f9b-90c8d46ffc0e"
      },
      "source": [
        "index = 0\r\n",
        "\r\n",
        "plt.figure(figsize=(10,5))\r\n",
        "for item in mnist_train.take(5):\r\n",
        "    plt.subplot(1, 5, index + 1)\r\n",
        "    plt.imshow(item[0][0][:,:,0], cmap='binary')\r\n",
        "\r\n",
        "    # item[0] gives the images part of the tuple (images, labels)\r\n",
        "    # item[0][0] gives the first batch of the images\r\n",
        "    # item[0][0][:,:,0] gives the 28 x 28 matrix ignoring the channel\r\n",
        "\r\n",
        "    plt.grid('off')\r\n",
        "    plt.axis('off')\r\n",
        "    index += 1\r\n",
        "plt.show()"
      ],
      "execution_count": 60,
      "outputs": [
        {
          "output_type": "display_data",
          "data": {
            "image/png": "[encoded data removed]",
            "text/plain": [
              "<Figure size 720x360 with 5 Axes>"
            ]
          },
          "metadata": {
            "tags": []
          }
        }
      ]
    },
    {
      "cell_type": "code",
      "metadata": {
        "id": "EhBKdjMBO0dN"
      },
      "source": [
        "model = keras.models.Sequential([\r\n",
        "    keras.layers.Flatten(input_shape=(28,28, 1)),\r\n",
        "    keras.layers.Lambda(lambda x: x/255.0),\r\n",
        "    keras.layers.Dense(64, activation='selu', kernel_initializer='lecun_normal'),\r\n",
        "    keras.layers.Dense(64, activation='selu', kernel_initializer='lecun_normal'),\r\n",
        "    keras.layers.Dense(32, activation='selu', kernel_initializer='lecun_normal'),\r\n",
        "    keras.layers.Dense(32, activation='selu', kernel_initializer='lecun_normal'),\r\n",
        "    keras.layers.Dense(10, activation='softmax')\r\n",
        "])\r\n",
        "\r\n",
        "model.compile(optimizer='Nadam', loss='sparse_categorical_crossentropy', metrics='accuracy')"
      ],
      "execution_count": 7,
      "outputs": []
    },
    {
      "cell_type": "code",
      "metadata": {
        "colab": {
          "base_uri": "https://localhost:8080/"
        },
        "id": "1peoxm74PHYv",
        "outputId": "8f8a2ea4-8416-4b93-e315-1c3a65a57aec"
      },
      "source": [
        "model.summary()"
      ],
      "execution_count": 8,
      "outputs": [
        {
          "output_type": "stream",
          "text": [
            "Model: \"sequential\"\n",
            "_________________________________________________________________\n",
            "Layer (type)                 Output Shape              Param #   \n",
            "=================================================================\n",
            "flatten (Flatten)            (None, 784)               0         \n",
            "_________________________________________________________________\n",
            "lambda (Lambda)              (None, 784)               0         \n",
            "_________________________________________________________________\n",
            "dense (Dense)                (None, 64)                50240     \n",
            "_________________________________________________________________\n",
            "dense_1 (Dense)              (None, 64)                4160      \n",
            "_________________________________________________________________\n",
            "dense_2 (Dense)              (None, 32)                2080      \n",
            "_________________________________________________________________\n",
            "dense_3 (Dense)              (None, 32)                1056      \n",
            "_________________________________________________________________\n",
            "dense_4 (Dense)              (None, 10)                330       \n",
            "=================================================================\n",
            "Total params: 57,866\n",
            "Trainable params: 57,866\n",
            "Non-trainable params: 0\n",
            "_________________________________________________________________\n"
          ],
          "name": "stdout"
        }
      ]
    },
    {
      "cell_type": "code",
      "metadata": {
        "colab": {
          "base_uri": "https://localhost:8080/"
        },
        "id": "w0O8wzfpRz5o",
        "outputId": "b23495da-299f-46c9-bf1b-8be1d7cf616e"
      },
      "source": [
        "model_history = model.fit(mnist_train, epochs=20)"
      ],
      "execution_count": 9,
      "outputs": [
        {
          "output_type": "stream",
          "text": [
            "Epoch 1/20\n",
            "938/938 [==============================] - 8s 7ms/step - loss: 0.4915 - accuracy: 0.8517\n",
            "Epoch 2/20\n",
            "938/938 [==============================] - 2s 2ms/step - loss: 0.1656 - accuracy: 0.9498\n",
            "Epoch 3/20\n",
            "938/938 [==============================] - 2s 2ms/step - loss: 0.1204 - accuracy: 0.9633\n",
            "Epoch 4/20\n",
            "938/938 [==============================] - 2s 2ms/step - loss: 0.0967 - accuracy: 0.9705\n",
            "Epoch 5/20\n",
            "938/938 [==============================] - 2s 2ms/step - loss: 0.0804 - accuracy: 0.9754\n",
            "Epoch 6/20\n",
            "938/938 [==============================] - 2s 2ms/step - loss: 0.0682 - accuracy: 0.9788\n",
            "Epoch 7/20\n",
            "938/938 [==============================] - 2s 2ms/step - loss: 0.0576 - accuracy: 0.9822\n",
            "Epoch 8/20\n",
            "938/938 [==============================] - 2s 2ms/step - loss: 0.0484 - accuracy: 0.9847\n",
            "Epoch 9/20\n",
            "938/938 [==============================] - 2s 2ms/step - loss: 0.0437 - accuracy: 0.9859\n",
            "Epoch 10/20\n",
            "938/938 [==============================] - 2s 2ms/step - loss: 0.0390 - accuracy: 0.9873\n",
            "Epoch 11/20\n",
            "938/938 [==============================] - 3s 3ms/step - loss: 0.0346 - accuracy: 0.9880\n",
            "Epoch 12/20\n",
            "938/938 [==============================] - 3s 3ms/step - loss: 0.0326 - accuracy: 0.9894\n",
            "Epoch 13/20\n",
            "938/938 [==============================] - 3s 3ms/step - loss: 0.0315 - accuracy: 0.9892\n",
            "Epoch 14/20\n",
            "938/938 [==============================] - 3s 3ms/step - loss: 0.0296 - accuracy: 0.9896\n",
            "Epoch 15/20\n",
            "938/938 [==============================] - 2s 3ms/step - loss: 0.0249 - accuracy: 0.9917\n",
            "Epoch 16/20\n",
            "938/938 [==============================] - 2s 3ms/step - loss: 0.0223 - accuracy: 0.9921\n",
            "Epoch 17/20\n",
            "938/938 [==============================] - 3s 3ms/step - loss: 0.0235 - accuracy: 0.9920\n",
            "Epoch 18/20\n",
            "938/938 [==============================] - 2s 3ms/step - loss: 0.0210 - accuracy: 0.9921\n",
            "Epoch 19/20\n",
            "938/938 [==============================] - 3s 3ms/step - loss: 0.0190 - accuracy: 0.9937\n",
            "Epoch 20/20\n",
            "938/938 [==============================] - 2s 3ms/step - loss: 0.0232 - accuracy: 0.9920\n"
          ],
          "name": "stdout"
        }
      ]
    },
    {
      "cell_type": "code",
      "metadata": {
        "colab": {
          "base_uri": "https://localhost:8080/",
          "height": 284
        },
        "id": "SZBo0rpOSUaP",
        "outputId": "e6e50094-b527-4a0b-dd46-55089318012e"
      },
      "source": [
        "plt.figure(figsize=(10,4))\r\n",
        "\r\n",
        "plt.subplot(1,2,1)\r\n",
        "plt.plot(model_history.history['loss'], color='r')\r\n",
        "plt.title(\"Loss\")\r\n",
        "\r\n",
        "plt.subplot(1,2,2)\r\n",
        "plt.plot(model_history.history['accuracy'], color='k')\r\n",
        "plt.title(\"Accuracy\")\r\n",
        "\r\n",
        "plt.show()"
      ],
      "execution_count": 10,
      "outputs": [
        {
          "output_type": "display_data",
          "data": {
            "image/png": "[encoded data removed]",
            "text/plain": [
              "<Figure size 720x288 with 2 Axes>"
            ]
          },
          "metadata": {
            "tags": []
          }
        }
      ]
    },
    {
      "cell_type": "code",
      "metadata": {
        "colab": {
          "base_uri": "https://localhost:8080/"
        },
        "id": "ttlirJqfWFqz",
        "outputId": "561cce09-f441-4de1-ac3c-84f7ee6ed652"
      },
      "source": [
        "model.evaluate(mnist_test)"
      ],
      "execution_count": 11,
      "outputs": [
        {
          "output_type": "stream",
          "text": [
            "157/157 [==============================] - 1s 6ms/step - loss: 0.1278 - accuracy: 0.9736\n"
          ],
          "name": "stdout"
        },
        {
          "output_type": "execute_result",
          "data": {
            "text/plain": [
              "[0.12783950567245483, 0.9735999703407288]"
            ]
          },
          "metadata": {
            "tags": []
          },
          "execution_count": 11
        }
      ]
    },
    {
      "cell_type": "code",
      "metadata": {
        "colab": {
          "base_uri": "https://localhost:8080/",
          "height": 299
        },
        "id": "sSoG5GifTQpP",
        "outputId": "33feca64-2b7e-40c0-e2a6-5f0b082c1b91"
      },
      "source": [
        "for item in mnist_test.take(1):\r\n",
        "    arr = item[0][:1]\r\n",
        "    plt.imshow(arr[0,:,:,0], cmap='binary')\r\n",
        "    plt.axis('off')\r\n",
        "    plt.show()\r\n",
        "\r\n",
        "model.predict(arr)"
      ],
      "execution_count": 39,
      "outputs": [
        {
          "output_type": "display_data",
          "data": {
            "image/png": "[encoded data removed]",
            "text/plain": [
              "<Figure size 432x288 with 1 Axes>"
            ]
          },
          "metadata": {
            "tags": []
          }
        },
        {
          "output_type": "execute_result",
          "data": {
            "text/plain": [
              "array([[2.8727017e-21, 2.1735828e-11, 1.0000000e+00, 1.0528186e-13,\n",
              "        2.1659202e-17, 7.4053655e-23, 4.4250570e-20, 2.8885723e-19,\n",
              "        1.6333209e-16, 1.0128940e-19]], dtype=float32)"
            ]
          },
          "metadata": {
            "tags": []
          },
          "execution_count": 39
        }
      ]
    },
    {
      "cell_type": "code",
      "metadata": {
        "id": "5XD1TAauNiRS"
      },
      "source": [
        "#mount drive first\r\n",
        "model.save(\"/content/drive/MyDrive/Colab Notebooks/models/mnist.h5\")"
      ],
      "execution_count": 19,
      "outputs": []
    },
    {
      "cell_type": "code",
      "metadata": {
        "id": "ROibQFb2RbLz"
      },
      "source": [
        "predictions = model.predict(mnist_test)\r\n",
        "predictions = np.argmax(predictions, axis=-1)\r\n",
        "\r\n",
        "labels = []\r\n",
        "for item in mnist_test:\r\n",
        "    for label in item[1]:\r\n",
        "        labels.append(label)\r\n",
        "\r\n",
        "confusion_matrix = tf.math.confusion_matrix(\r\n",
        "    labels, predictions, num_classes=10, dtype=tf.dtypes.int32\r\n",
        ")"
      ],
      "execution_count": 91,
      "outputs": []
    },
    {
      "cell_type": "code",
      "metadata": {
        "colab": {
          "base_uri": "https://localhost:8080/",
          "height": 377
        },
        "id": "GhnPgXuAUzYD",
        "outputId": "99a956b0-ced2-4ef6-ed4d-c4c339207cc6"
      },
      "source": [
        "plt.figure(figsize=(13,6))\r\n",
        "sns.heatmap(confusion_matrix, annot=True, linewidth=1, linecolor='w')\r\n",
        "plt.show()"
      ],
      "execution_count": 89,
      "outputs": [
        {
          "output_type": "display_data",
          "data": {
            "image/png": "[encoded data removed]",
            "text/plain": [
              "<Figure size 936x432 with 2 Axes>"
            ]
          },
          "metadata": {
            "tags": []
          }
        }
      ]
    },
    {
      "cell_type": "markdown",
      "metadata": {
        "id": "TVUqIyJ4Ylk-"
      },
      "source": [
        "The heatmaps shows that the classifier is having with the following:\r\n",
        "\r\n",
        "* 2 and 7 (18 wrong)\r\n",
        "* 3 and 8 (20 wrong)\r\n",
        "* 3 and 9 (16 wrong)\r\n",
        "* 4 and 9 (26 wrong)\r\n",
        "\r\n",
        "This is expected as the pairs have similar shaped and even humans get confused among the above mentioned pairs if they are written in a bad hand-writing."
      ]
    },
    {
      "cell_type": "code",
      "metadata": {
        "id": "hgrcnjIXZ12Z"
      },
      "source": [
        ""
      ],
      "execution_count": null,
      "outputs": []
    }
  ]
}